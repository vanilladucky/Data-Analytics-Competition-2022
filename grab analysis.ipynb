{
 "cells": [
  {
   "cell_type": "markdown",
   "metadata": {},
   "source": [
    "## Importing libraries"
   ]
  },
  {
   "cell_type": "code",
   "execution_count": null,
   "metadata": {},
   "outputs": [],
   "source": [
    "import numpy as np\n",
    "import pandas as pd\n",
    "import geopandas as gpd\n",
    "import seaborn as sns\n",
    "import plotly.express as px\n",
    "import matplotlib.pyplot as plt\n",
    "import shapefile as shp\n",
    "import datetime"
   ]
  },
  {
   "cell_type": "markdown",
   "metadata": {},
   "source": [
    "## Importing and Formatting SG and Jarkata datasets"
   ]
  },
  {
   "cell_type": "code",
   "execution_count": null,
   "metadata": {},
   "outputs": [],
   "source": [
    "df_sg0 = pd.read_parquet('part-00000-8bbff892-97d2-4011-9961-703e38972569.c000.snappy.parquet', engine='pyarrow')\n",
    "df_sg1 = pd.read_parquet('part-00001-8bbff892-97d2-4011-9961-703e38972569.c000.snappy.parquet', engine='pyarrow')\n",
    "df_sg2 = pd.read_parquet('part-00002-8bbff892-97d2-4011-9961-703e38972569.c000.snappy.parquet', engine='pyarrow')\n",
    "df_sg3 = pd.read_parquet('part-00003-8bbff892-97d2-4011-9961-703e38972569.c000.snappy.parquet', engine='pyarrow')\n",
    "df_sg4 = pd.read_parquet('part-00004-8bbff892-97d2-4011-9961-703e38972569.c000.snappy.parquet', engine='pyarrow')\n",
    "df_sg5 = pd.read_parquet('part-00005-8bbff892-97d2-4011-9961-703e38972569.c000.snappy.parquet', engine='pyarrow')\n",
    "df_sg6 = pd.read_parquet('part-00006-8bbff892-97d2-4011-9961-703e38972569.c000.snappy.parquet', engine='pyarrow')\n",
    "df_sg7 = pd.read_parquet('part-00007-8bbff892-97d2-4011-9961-703e38972569.c000.snappy.parquet', engine='pyarrow')\n",
    "df_sg8 = pd.read_parquet('part-00008-8bbff892-97d2-4011-9961-703e38972569.c000.snappy.parquet', engine='pyarrow')\n",
    "df_sg9 = pd.read_parquet('part-00009-8bbff892-97d2-4011-9961-703e38972569.c000.snappy.parquet', engine='pyarrow')"
   ]
  },
  {
   "cell_type": "code",
   "execution_count": null,
   "metadata": {},
   "outputs": [],
   "source": [
    "df_jk0 = pd.read_parquet('jk-part-00000-8bbff892-97d2-4011-9961-703e38972569.c000.snappy.parquet', engine='pyarrow')\n",
    "df_jk1 = pd.read_parquet('jk-part-00001-8bbff892-97d2-4011-9961-703e38972569.c000.snappy.parquet', engine='pyarrow')\n",
    "df_jk2 = pd.read_parquet('jk-part-00002-8bbff892-97d2-4011-9961-703e38972569.c000.snappy.parquet', engine='pyarrow')\n",
    "df_jk3 = pd.read_parquet('jk-part-00003-8bbff892-97d2-4011-9961-703e38972569.c000.snappy.parquet', engine='pyarrow')\n",
    "df_jk4 = pd.read_parquet('jk-part-00004-8bbff892-97d2-4011-9961-703e38972569.c000.snappy.parquet', engine='pyarrow')\n",
    "df_jk5 = pd.read_parquet('jk-part-00005-8bbff892-97d2-4011-9961-703e38972569.c000.snappy.parquet', engine='pyarrow')\n",
    "df_jk6 = pd.read_parquet('jk-part-00006-8bbff892-97d2-4011-9961-703e38972569.c000.snappy.parquet', engine='pyarrow')\n",
    "df_jk7 = pd.read_parquet('jk-part-00007-8bbff892-97d2-4011-9961-703e38972569.c000.snappy.parquet', engine='pyarrow')\n",
    "df_jk8 = pd.read_parquet('jk-part-00008-8bbff892-97d2-4011-9961-703e38972569.c000.snappy.parquet', engine='pyarrow')\n",
    "df_jk9 = pd.read_parquet('jk-part-00009-8bbff892-97d2-4011-9961-703e38972569.c000.snappy.parquet', engine='pyarrow')"
   ]
  },
  {
   "cell_type": "code",
   "execution_count": null,
   "metadata": {},
   "outputs": [],
   "source": [
    "sg_files = [df_sg0, df_sg1,df_sg2, df_sg3, df_sg4, df_sg5, df_sg6, df_sg7, df_sg8, df_sg9]\n",
    "jk_files = [df_jk0, df_jk1,df_jk2, df_jk3, df_jk4, df_jk5, df_jk6, df_jk7, df_jk8, df_jk9]"
   ]
  },
  {
   "cell_type": "code",
   "execution_count": null,
   "metadata": {},
   "outputs": [],
   "source": [
    "df_sg = pd.concat(sg_files, ignore_index=True)\n",
    "df_jk = pd.concat(jk_files, ignore_index=True)"
   ]
  },
  {
   "cell_type": "code",
   "execution_count": null,
   "metadata": {},
   "outputs": [],
   "source": [
    "df_sg['trj_id'] = df_sg['trj_id'].astype('category')\n",
    "df_sg['driving_mode'] = df_sg['driving_mode'].astype('category')\n",
    "df_sg['osname'] = df_sg['osname'].astype('category')\n",
    "df_sg['pingtimestamp'] = df_sg['pingtimestamp'].astype('int32')\n",
    "df_sg['rawlat'] = df_sg['rawlat'].astype('float32')\n",
    "df_sg['rawlng'] = df_sg['rawlng'].astype('float32')\n",
    "df_sg['speed'] = df_sg['speed'].astype('float32')\n",
    "df_sg['bearing'] = df_sg['bearing'].astype('int32')\n",
    "df_sg['accuracy'] = df_sg['accuracy'].astype('float32')"
   ]
  },
  {
   "cell_type": "code",
   "execution_count": null,
   "metadata": {},
   "outputs": [],
   "source": [
    "df_jk['trj_id'] = df_jk['trj_id'].astype('category')\n",
    "df_jk['driving_mode'] = df_jk['driving_mode'].astype('category')\n",
    "df_jk['osname'] = df_jk['osname'].astype('category')\n",
    "df_jk['pingtimestamp'] = df_jk['pingtimestamp'].astype('int32')\n",
    "df_jk['rawlat'] = df_jk['rawlat'].astype('float32')\n",
    "df_jk['rawlng'] = df_jk['rawlng'].astype('float32')\n",
    "df_jk['speed'] = df_jk['speed'].astype('float32')\n",
    "df_jk['bearing'] = df_jk['bearing'].astype('int32')\n",
    "df_jk['accuracy'] = df_jk['accuracy'].astype('float32')"
   ]
  },
  {
   "cell_type": "code",
   "execution_count": null,
   "metadata": {},
   "outputs": [],
   "source": [
    "def to_uint16(df, *args):\n",
    "    for col_name in args:\n",
    "        df[col_name] = df[col_name].astype(\"uint16\")\n",
    "\n",
    "def format_datetime(df, col_name):\n",
    "    # get datetime obj for all timestamps\n",
    "    dt = df[col_name].apply(datetime.datetime.fromtimestamp)\n",
    "    df[\"time\"] = dt.apply(lambda x: x.time())\n",
    "    df[\"day_of_week\"] = dt.apply(lambda x: x.weekday())\n",
    "    df[\"month\"] = dt.apply(lambda x: x.month)\n",
    "    df[\"year\"] = dt.apply(lambda x: x.year)"
   ]
  },
  {
   "cell_type": "code",
   "execution_count": null,
   "metadata": {},
   "outputs": [],
   "source": [
    "jk_formatted = df_jk.copy()"
   ]
  },
  {
   "cell_type": "code",
   "execution_count": null,
   "metadata": {},
   "outputs": [],
   "source": [
    "format_datetime(jk_formatted, \"pingtimestamp\")\n",
    "to_uint16(jk_formatted, [\"day_of_week\", \"month\", \"year\"])"
   ]
  },
  {
   "cell_type": "code",
   "execution_count": null,
   "metadata": {},
   "outputs": [],
   "source": [
    "sg_formatted = df_sg.copy()"
   ]
  },
  {
   "cell_type": "code",
   "execution_count": null,
   "metadata": {},
   "outputs": [],
   "source": [
    "format_datetime(sg_formatted, \"pingtimestamp\")\n",
    "to_uint16(sg_formatted, [\"day_of_week\", \"month\", \"year\"])"
   ]
  },
  {
   "cell_type": "markdown",
   "metadata": {},
   "source": [
    "## Data Cleaning"
   ]
  },
  {
   "cell_type": "code",
   "execution_count": null,
   "metadata": {},
   "outputs": [],
   "source": [
    "#removing negative speed\n",
    "sg_clean = sg_formatted[sg_formatted['speed']>0]\n",
    "#extracting useful columns\n",
    "sg_clean = sg_clean.drop(['trj_id','driving_mode','pingtimestamp','bearing','month','year'],axis=1)"
   ]
  },
  {
   "cell_type": "code",
   "execution_count": null,
   "metadata": {},
   "outputs": [],
   "source": [
    "#extracting only the hour for time\n",
    "sg_clean.time = pd.to_datetime(sg_clean['time'], format='%H:%M:%S')\n",
    "sg_clean.time = sg_clean.time.dt.hour"
   ]
  },
  {
   "cell_type": "code",
   "execution_count": null,
   "metadata": {},
   "outputs": [],
   "source": [
    "#removing negative speed\n",
    "jk_clean = jk_formatted[jk_formatted['speed']>0]\n",
    "#extracting useful columns\n",
    "jk_clean = jk_clean.drop(['trj_id','pingtimestamp','bearing','month','year'],axis=1)"
   ]
  },
  {
   "cell_type": "code",
   "execution_count": null,
   "metadata": {},
   "outputs": [],
   "source": [
    "#extracting only the hour for time\n",
    "jk_clean.time = pd.to_datetime(jk_clean['time'], format='%H:%M:%S')\n",
    "jk_clean.time = jk_clean.time.dt.hour"
   ]
  },
  {
   "cell_type": "code",
   "execution_count": null,
   "metadata": {},
   "outputs": [],
   "source": [
    "#sorting out driving mode for jakarta\n",
    "jk_clean_car = jk_clean[jk_clean['driving_mode']=='car']\n",
    "jk_clean_motor = jk_clean[jk_clean['driving_mode']=='motorcycle']"
   ]
  },
  {
   "cell_type": "markdown",
   "metadata": {},
   "source": [
    "## Simple Visualisation with Seaborn"
   ]
  },
  {
   "cell_type": "markdown",
   "metadata": {},
   "source": [
    "### Correlation between speed and day of the week"
   ]
  },
  {
   "cell_type": "code",
   "execution_count": null,
   "metadata": {},
   "outputs": [],
   "source": [
    "sns.barplot(data=sg_clean,x='day_of_week',y='speed',estimator=np.mean,ci='sd')"
   ]
  },
  {
   "cell_type": "code",
   "execution_count": null,
   "metadata": {},
   "outputs": [],
   "source": [
    "sns.barplot(data=jk_clean_car,x='day_of_week',y='speed',estimator=np.mean,ci='sd')"
   ]
  },
  {
   "cell_type": "code",
   "execution_count": null,
   "metadata": {},
   "outputs": [],
   "source": [
    "sns.barplot(data=jk_clean_motor,x='day_of_week',y='speed',estimator=np.mean,ci='sd')"
   ]
  },
  {
   "cell_type": "markdown",
   "metadata": {},
   "source": [
    "### Correlation between speed and time of day"
   ]
  },
  {
   "cell_type": "code",
   "execution_count": null,
   "metadata": {},
   "outputs": [],
   "source": [
    "sns.barplot(data=sg_clean,x='time',y='speed',estimator=np.mean,ci='sd')"
   ]
  },
  {
   "cell_type": "code",
   "execution_count": null,
   "metadata": {},
   "outputs": [],
   "source": [
    "sns.barplot(data=jk_clean_car,x='time',y='speed',estimator=np.mean,ci='sd')"
   ]
  },
  {
   "cell_type": "code",
   "execution_count": null,
   "metadata": {},
   "outputs": [],
   "source": [
    "sns.barplot(data=jk_clean_motor,x='time',y='speed',estimator=np.mean,ci='sd')"
   ]
  },
  {
   "cell_type": "markdown",
   "metadata": {},
   "source": [
    "## Visualising with Folium"
   ]
  },
  {
   "cell_type": "code",
   "execution_count": null,
   "metadata": {},
   "outputs": [],
   "source": [
    "import folium\n",
    "from folium import plugins\n",
    "from branca.element import Figure\n",
    "\n",
    "# latitude and longitude of Singapore\n",
    "sg_lat = 1.290270\n",
    "sg_lng = 103.851959"
   ]
  },
  {
   "cell_type": "code",
   "execution_count": null,
   "metadata": {},
   "outputs": [],
   "source": [
    "# create figure\n",
    "fig = Figure(width = 1000, height = 500)\n",
    "\n",
    "# add map to figure\n",
    "m = folium.Map(width = 1000, height = 700,\n",
    "               location = [sg_lat, sg_lng],\n",
    "               zoom_start = 11, min_zoom = 11, max_zoom =15)\n",
    "fig.add_child(m)\n",
    "\n",
    "m"
   ]
  },
  {
   "cell_type": "code",
   "execution_count": null,
   "metadata": {},
   "outputs": [],
   "source": [
    "peak_period = sg_clean[sg_clean['time']==8]\n",
    "offpeak_period = sg_clean[sg_clean['time']==19]"
   ]
  },
  {
   "cell_type": "code",
   "execution_count": null,
   "metadata": {},
   "outputs": [],
   "source": [
    "peak_pings = peak_period[['rawlat', 'rawlng']].to_numpy()\n",
    "offpeak_pings = offpeak_period[['rawlat', 'rawlng']].to_numpy()"
   ]
  },
  {
   "cell_type": "code",
   "execution_count": null,
   "metadata": {},
   "outputs": [],
   "source": [
    "# create new figure\n",
    "fig_peak_period = Figure(height = 500, width = 1000)\n",
    "\n",
    "# create new map\n",
    "map_peak_period = folium.Map([sg_lat, sg_lng], zoom_start = 11,\n",
    "                             min_zoom = 11, max_zoom = 16)\n",
    "fig_peak_period.add_child(map_peak_period)\n",
    "\n",
    "# create heatmap and add to map\n",
    "plugins.HeatMap(peak_pings, radius = 4, blur = 6).add_to(map_peak_period)\n",
    "\n",
    "map_peak_period"
   ]
  },
  {
   "cell_type": "code",
   "execution_count": null,
   "metadata": {},
   "outputs": [],
   "source": [
    "# create new figure\n",
    "fig_offpeak_period = Figure(height = 500, width = 1000)\n",
    "\n",
    "# create new map\n",
    "map_offpeak_period = folium.Map([sg_lat, sg_lng], zoom_start = 11,\n",
    "                             min_zoom = 11, max_zoom = 16)\n",
    "fig_offpeak_period.add_child(map_offpeak_period)\n",
    "\n",
    "\n",
    "# create heatmap and add to map\n",
    "plugins.HeatMap(offpeak_pings, radius = 4, blur = 6).add_to(map_offpeak_period)\n",
    "\n",
    "map_offpeak_period"
   ]
  },
  {
   "cell_type": "code",
   "execution_count": null,
   "metadata": {},
   "outputs": [],
   "source": [
    "loc_points = zip(sg_clean['rawlng'], sg_clean['rawlng'])"
   ]
  },
  {
   "cell_type": "code",
   "execution_count": null,
   "metadata": {},
   "outputs": [],
   "source": [
    "for location in loc_points:\n",
    "    folium.CircleMarker(location=location, colour='green', radius=0.5).add_to(m)"
   ]
  }
 ],
 "metadata": {
  "kernelspec": {
   "display_name": "grab_comp",
   "language": "python",
   "name": "grab_comp"
  },
  "language_info": {
   "codemirror_mode": {
    "name": "ipython",
    "version": 3
   },
   "file_extension": ".py",
   "mimetype": "text/x-python",
   "name": "python",
   "nbconvert_exporter": "python",
   "pygments_lexer": "ipython3",
   "version": "3.10.2"
  }
 },
 "nbformat": 4,
 "nbformat_minor": 4
}
